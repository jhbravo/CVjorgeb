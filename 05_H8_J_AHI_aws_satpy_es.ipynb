{
  "nbformat": 4,
  "nbformat_minor": 0,
  "metadata": {
    "colab": {
      "name": "05_H8_J_AHI_aws_satpy_es.ipynb",
      "provenance": [],
      "collapsed_sections": [],
      "authorship_tag": "ABX9TyMBacid6HLVWmbFDyYxmQsv"
    },
    "kernelspec": {
      "display_name": "Python 3",
      "name": "python3"
    }
  },
  "cells": [
    {
      "cell_type": "code",
      "metadata": {
        "id": "UJqMtxtpFPHC"
      },
      "source": [
        "%%capture\n",
        "!pip install satpy pyorbital pyspectral"
      ],
      "execution_count": null,
      "outputs": []
    },
    {
      "cell_type": "code",
      "metadata": {
        "id": "YZEIjEbR4GJz"
      },
      "source": [
        "if 'google.colab' in str(get_ipython()):\n",
        "  print('colab')\n",
        "  !wget -q https://raw.githubusercontent.com/jhbravo/read_aws-cloud_abi_data/main/config_loader.py -O /usr/local/lib/python3.6/dist-packages/satpy/composites/config_loader.py\n",
        "  !wget -q https://raw.githubusercontent.com/jhbravo/read_aws-cloud_abi_data/main/utils.py -O /usr/local/lib/python3.6/dist-packages/satpy/readers/utils.py\n",
        "else:\n",
        "  print('kaggle')\n",
        "  !wget -q https://raw.githubusercontent.com/jhbravo/read_aws-cloud_abi_data/main/config_loader.py -O /opt/conda/lib/python3.7/site-packages/satpy/composites/config_loader.py\n",
        "  !wget -q https://raw.githubusercontent.com/jhbravo/read_aws-cloud_abi_data/main/abi_base.py -O /opt/conda/lib/python3.7/site-packages/satpy/readers/utils.py"
      ],
      "execution_count": null,
      "outputs": []
    },
    {
      "cell_type": "code",
      "metadata": {
        "id": "_jt_KN-Zw1o-"
      },
      "source": [
        "from satpy import Scene\n",
        "#from satpy.utils import debug_on\n",
        "#debug_on()"
      ],
      "execution_count": null,
      "outputs": []
    },
    {
      "cell_type": "code",
      "metadata": {
        "id": "Ibb3IIXwX_Ac"
      },
      "source": [
        "urls = ['https://noaa-himawari8.s3.amazonaws.com/AHI-L1b-Japan/2021/02/11/0140/HS_H08_20210211_0140_B01_JP01_R10_S0101.DAT.bz2',\n",
        "        'https://noaa-himawari8.s3.amazonaws.com/AHI-L1b-Japan/2021/02/11/0140/HS_H08_20210211_0140_B02_JP01_R10_S0101.DAT.bz2',\n",
        "        'https://noaa-himawari8.s3.amazonaws.com/AHI-L1b-Japan/2021/02/11/0140/HS_H08_20210211_0140_B03_JP01_R05_S0101.DAT.bz2',\n",
        "        'https://noaa-himawari8.s3.amazonaws.com/AHI-L1b-Japan/2021/02/11/0140/HS_H08_20210211_0140_B04_JP01_R10_S0101.DAT.bz2',\n",
        "        'https://noaa-himawari8.s3.amazonaws.com/AHI-L1b-Japan/2021/02/11/0140/HS_H08_20210211_0140_B05_JP01_R20_S0101.DAT.bz2',\n",
        "        'https://noaa-himawari8.s3.amazonaws.com/AHI-L1b-Japan/2021/02/11/0140/HS_H08_20210211_0140_B06_JP01_R20_S0101.DAT.bz2',\n",
        "        'https://noaa-himawari8.s3.amazonaws.com/AHI-L1b-Japan/2021/02/11/0140/HS_H08_20210211_0140_B07_JP01_R20_S0101.DAT.bz2',\n",
        "        'https://noaa-himawari8.s3.amazonaws.com/AHI-L1b-Japan/2021/02/11/0140/HS_H08_20210211_0140_B08_JP01_R20_S0101.DAT.bz2',\n",
        "        'https://noaa-himawari8.s3.amazonaws.com/AHI-L1b-Japan/2021/02/11/0140/HS_H08_20210211_0140_B09_JP01_R20_S0101.DAT.bz2',\n",
        "        'https://noaa-himawari8.s3.amazonaws.com/AHI-L1b-Japan/2021/02/11/0140/HS_H08_20210211_0140_B10_JP01_R20_S0101.DAT.bz2',\n",
        "        'https://noaa-himawari8.s3.amazonaws.com/AHI-L1b-Japan/2021/02/11/0140/HS_H08_20210211_0140_B11_JP01_R20_S0101.DAT.bz2',\n",
        "        'https://noaa-himawari8.s3.amazonaws.com/AHI-L1b-Japan/2021/02/11/0140/HS_H08_20210211_0140_B12_JP01_R20_S0101.DAT.bz2',\n",
        "        'https://noaa-himawari8.s3.amazonaws.com/AHI-L1b-Japan/2021/02/11/0140/HS_H08_20210211_0140_B13_JP01_R20_S0101.DAT.bz2',\n",
        "        'https://noaa-himawari8.s3.amazonaws.com/AHI-L1b-Japan/2021/02/11/0140/HS_H08_20210211_0140_B14_JP01_R20_S0101.DAT.bz2',\n",
        "        'https://noaa-himawari8.s3.amazonaws.com/AHI-L1b-Japan/2021/02/11/0140/HS_H08_20210211_0140_B15_JP01_R20_S0101.DAT.bz2',\n",
        "        'https://noaa-himawari8.s3.amazonaws.com/AHI-L1b-Japan/2021/02/11/0140/HS_H08_20210211_0140_B16_JP01_R20_S0101.DAT.bz2',]"
      ],
      "execution_count": null,
      "outputs": []
    },
    {
      "cell_type": "code",
      "metadata": {
        "id": "wHpmqpvexzWm"
      },
      "source": [
        "scn = Scene(reader='ahi_hsd', filenames=urls)"
      ],
      "execution_count": null,
      "outputs": []
    },
    {
      "cell_type": "code",
      "metadata": {
        "id": "MbzgVq7Yx6gz"
      },
      "source": [
        "scn.load([f'B{n:02d}' for n in range(1,17)])"
      ],
      "execution_count": null,
      "outputs": []
    },
    {
      "cell_type": "code",
      "metadata": {
        "id": "BHWCIwcHc66H"
      },
      "source": [
        "scn.show('B13')"
      ],
      "execution_count": null,
      "outputs": []
    },
    {
      "cell_type": "code",
      "metadata": {
        "id": "Qc2RiqtieXbi"
      },
      "source": [
        "scn.all_composite_names()"
      ],
      "execution_count": null,
      "outputs": []
    },
    {
      "cell_type": "code",
      "metadata": {
        "id": "kQiLD7agx8lL"
      },
      "source": [
        "a2km = scn['B13'].area"
      ],
      "execution_count": null,
      "outputs": []
    },
    {
      "cell_type": "code",
      "metadata": {
        "id": "0nge5LaAzSTt"
      },
      "source": [
        "nscn = scn.resample(a2km, resampler='native')"
      ],
      "execution_count": null,
      "outputs": []
    },
    {
      "cell_type": "code",
      "metadata": {
        "id": "oyZfBf7NzYqw"
      },
      "source": [
        "rgbim = 'airmass'\n",
        "nscn.load([rgbim,])\n",
        "nscn.show(rgbim)"
      ],
      "execution_count": null,
      "outputs": []
    },
    {
      "cell_type": "code",
      "metadata": {
        "id": "K5O108WO0vnM"
      },
      "source": [
        "rgbim = 'water_vapors1'\n",
        "nscn.load([rgbim,])\n",
        "nscn.show(rgbim)"
      ],
      "execution_count": null,
      "outputs": []
    },
    {
      "cell_type": "code",
      "metadata": {
        "id": "Btu0Jk9eY7YP"
      },
      "source": [
        "rgbim = 'cloud_phase_distinction'\n",
        "nscn.load([rgbim,])\n",
        "nscn.show(rgbim)"
      ],
      "execution_count": null,
      "outputs": []
    },
    {
      "cell_type": "code",
      "metadata": {
        "id": "QqA7cmJcY9Zt"
      },
      "source": [
        "rgbim = 'true_color'\n",
        "nscn.load([rgbim,])\n",
        "nscn.show(rgbim)"
      ],
      "execution_count": null,
      "outputs": []
    },
    {
      "cell_type": "code",
      "metadata": {
        "id": "uWtpfdPE44L7"
      },
      "source": [
        "%%capture\n",
        "## install cartopy source: https://github.com/googlecolab/colabtools/issues/85#issuecomment-709241391\n",
        "# not using `python-cartopy` package as it doesn't include all build dependencies\n",
        "!apt-get install libproj-dev proj-bin proj-data\n",
        "!apt-get install libgeos-dev\n",
        "\n",
        "# shapely needs to be reinstalled to use the same geos install as cartopy (https://github.com/SciTools/cartopy/issues/871)\n",
        "!pip uninstall -y shapely\n",
        "!pip install --no-binary shapely shapely\n",
        "!pip install cartopy"
      ],
      "execution_count": null,
      "outputs": []
    },
    {
      "cell_type": "code",
      "metadata": {
        "id": "ovNUAuRE9GhQ"
      },
      "source": [
        "from satpy.writers import get_enhanced_image\n",
        "\n",
        "import numpy as np\n",
        "import cartopy.crs as ccrs\n",
        "import matplotlib.pyplot as plt\n",
        "import matplotlib.ticker as mticker\n",
        "%matplotlib inline"
      ],
      "execution_count": null,
      "outputs": []
    },
    {
      "cell_type": "code",
      "metadata": {
        "id": "lh3cCTGfZCFW"
      },
      "source": [
        "fig = plt.figure(figsize=(10, 10), dpi=200)\n",
        "\n",
        "cmap = ['#ffffff',] * 19 + ['#7f007f', '#8c0d87', '#99198e', '#a52696', '#b2339d', '#bf40a5', '#cc4cad', '#d959b4', '#e566bc', '#f272c3', '#ff7fcb', '#e6e6e6', '#cdcdcd',\n",
        "        '#b3b3b3', '#9a9a9a', '#808080', '#676767', '#4d4d4d', '#343434', '#1a1a1a', '#000000', '#1a0000', '#330000', '#4d0000', '#660000', '#800000', '#990000', '#b30000', '#cc0000',\n",
        "        '#e60000', '#ff0000', '#ff1a00', '#ff3300', '#ff4d00', '#ff6600', '#ff8000', '#ff9900', '#ffb300', '#ffcc00', '#ffe600', '#ffff00', '#e6ff00', '#ccff00', '#b3ff00', '#99ff00',\n",
        "        '#80ff00', '#66ff00', '#4dff00', '#33ff00', '#1aff00', '#00ff00', '#00ea0a', '#00d513', '#00bf1d', '#00aa26', '#009530', '#00803a', '#006a43', '#00554d', '#004056', '#002b60',\n",
        "        '#001569', '#000073', '#000073', '#000d7a', '#001a81', '#002688', '#00338f', '#004096', '#004d9d', '#0059a4', '#0066ab', '#0073b2', '#0080b9', '#008cc0', '#0099c7', '#00a6ce',\n",
        "        '#00b3d5', '#00bfdc', '#00cce3', '#00d9ea', '#00e6f1', '#00f2f8', '#00ffff', '#ffffff', '#ffffff', '#ffffff', '#ffffff', '#ffffff', '#ffffff', '#ffffff', '#fefefe', '#fcfcfc',\n",
        "        '#f9f9f9', '#f7f7f7', '#f4f4f4', '#f2f2f2', '#efefef', '#ededed', '#eaeaea', '#e8e8e8', '#e5e5e5', '#e2e2e2', '#e0e0e0', '#dddddd', '#dbdbdb', '#d8d8d8', '#d6d6d6', '#d3d3d3',\n",
        "        '#d1d1d1', '#cecece', '#cbcbcb', '#c9c9c9', '#c6c6c6', '#c4c4c4', '#c1c1c1', '#bfbfbf', '#bcbcbc', '#bababa', '#b7b7b7', '#b5b5b5', '#b2b2b2', '#afafaf', '#adadad', '#aaaaaa',\n",
        "        '#a8a8a8', '#a5a5a5', '#a3a3a3', '#a0a0a0', '#9e9e9e', '#9b9b9b', '#989898', '#969696', '#939393', '#919191', '#8e8e8e', '#8c8c8c', '#898989', '#878787', '#848484', '#828282',\n",
        "        '#7f7f7f', '#7c7c7c', '#7a7a7a', '#777777', '#757575', '#727272', '#707070', '#6d6d6d', '#6b6b6b', '#686868', '#656565', '#636363', '#606060', '#5e5e5e', '#5b5b5b', '#595959',\n",
        "        '#565656', '#545454', '#515151', '#4f4f4f', '#4c4c4c', '#494949', '#474747', '#444444', '#424242', '#3f3f3f', '#3d3d3d', '#3a3a3a', '#383838', '#353535', '#323232', '#303030',\n",
        "        '#2d2d2d', '#2b2b2b', '#282828', '#262626', '#232323', '#212121', '#1e1e1e', '#1c1c1c', '#191919', '#161616', '#141414', '#111111', '#0f0f0f', '#0c0c0c', '#0a0a0a', '#070707',\n",
        "        '#050505', '#020202', ] + ['#000000',] * 46\n",
        "\n",
        "levels = np.linspace(-109+237.15, 56+237.15, num=len(cmap))\n",
        "norm = plt.cm.colors.BoundaryNorm(levels, len(levels))\n",
        "irmap = plt.cm.colors.ListedColormap(cmap)\n",
        "\n",
        "var = nscn['B13']\n",
        "strs = var.attrs\n",
        "abi_crs = var.area.to_cartopy_crs()\n",
        "ax = fig.add_subplot(1, 1, 1, projection=abi_crs)\n",
        "ir_img = ax.imshow(var, origin='upper', extent=(var.x[0], var.x[-1], var.y[-1], var.y[0]), cmap=irmap)\n",
        "\n",
        "#ax.set_extent([-123.0, -74.5, 10.0, 37.0]) #cambiar a area geografica de interes\n",
        "\n",
        "ax.coastlines(resolution='50m', color='cyan', linewidth=0.3)\n",
        "\n",
        "plt.title(f\"{strs['platform_name']} | {strs['name']}\\n{strs['start_time']:%Y-%m-%d %H:%M} UTC\", fontweight='bold', fontsize=10, loc='left')\n",
        "plt.title(f\"{strs['area'].area_id}\", fontweight='bold', fontsize=10, loc='right')\n"
      ],
      "execution_count": null,
      "outputs": []
    },
    {
      "cell_type": "code",
      "metadata": {
        "id": "lVUagiBY48Pe"
      },
      "source": [
        "var = get_enhanced_image(nscn['true_color']).data\n",
        "var = var.transpose('y', 'x', 'bands')"
      ],
      "execution_count": null,
      "outputs": []
    },
    {
      "cell_type": "code",
      "metadata": {
        "id": "Js-uHZbq6x5y"
      },
      "source": [
        "fig = plt.figure(figsize=(10, 10), dpi=200)\n",
        "strs = var.attrs\n",
        "abi_crs = var.attrs['area'].to_cartopy_crs()\n",
        "ax = fig.add_subplot(1, 1, 1, projection=abi_crs)\n",
        "ax.imshow(var.data, extent=(var.x[0], var.x[-1], var.y[-1], var.y[0]), origin='upper')\n",
        "\n",
        "#ax.set_extent([-123.0, -74.5, 10.0, 37.0]) #cambiar a area geografica de interes\n",
        "\n",
        "ax.coastlines(resolution='50m', color='cyan', linewidth=0.3)\n",
        "\n",
        "plt.title(f\"{strs['platform_name']} | {strs['name']}\\n{strs['start_time']:%Y-%m-%d %H:%M} UTC\", fontweight='bold', fontsize=10, loc='left')\n",
        "plt.title(f\"{strs['area'].area_id}\", fontweight='bold', fontsize=10, loc='right')"
      ],
      "execution_count": null,
      "outputs": []
    }
  ]
}